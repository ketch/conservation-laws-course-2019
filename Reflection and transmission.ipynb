{
 "cells": [
  {
   "cell_type": "code",
   "execution_count": null,
   "metadata": {},
   "outputs": [],
   "source": [
    "from clawpack.pyclaw import examples\n",
    "from clawpack.visclaw import ianimate"
   ]
  },
  {
   "cell_type": "code",
   "execution_count": null,
   "metadata": {},
   "outputs": [],
   "source": [
    "def acoustics(problem='figure 9.5'):\n",
    "    \"\"\"\n",
    "    This example solves the 1-dimensional variable-coefficient acoustics\n",
    "    equations in a medium with a single interface.\n",
    "    \"\"\"\n",
    "    from numpy import sqrt, abs\n",
    "    from clawpack import pyclaw\n",
    "    from clawpack import riemann\n",
    "\n",
    "    solver = pyclaw.ClawSolver1D(riemann.acoustics_variable_1D)\n",
    "\n",
    "    solver.limiters = pyclaw.limiters.tvd.MC\n",
    "    solver.bc_lower[0] = pyclaw.BC.extrap\n",
    "    solver.bc_upper[0] = pyclaw.BC.extrap\n",
    "    solver.aux_bc_lower[0] = pyclaw.BC.extrap\n",
    "    solver.aux_bc_upper[0] = pyclaw.BC.extrap\n",
    "\n",
    "    x = pyclaw.Dimension(-5.0,5.0,500,name='x')\n",
    "    domain = pyclaw.Domain(x)\n",
    "    num_eqn = 2\n",
    "    num_aux = 2\n",
    "    state = pyclaw.State(domain, num_eqn, num_aux)\n",
    "\n",
    "    if problem == 'figure 9.4':\n",
    "        rhol = 1.0\n",
    "        cl   = 1.0\n",
    "        rhor = 2.0\n",
    "        cr   = 0.5\n",
    "    elif problem == 'figure 9.5':\n",
    "        rhol = 1.0\n",
    "        cl   = 1.0\n",
    "        rhor = 4.0\n",
    "        cr   = 0.5\n",
    "    zl = rhol*cl\n",
    "    zr = rhor*cr\n",
    "    xc = domain.grid.x.centers\n",
    "\n",
    "    state.aux[0,:] = (xc<=0)*zl + (xc>0)*zr  # Impedance\n",
    "    state.aux[1,:] = (xc<=0)*cl + (xc>0)*cr  # Sound speed\n",
    "\n",
    "    # initial condition: half-ellipse\n",
    "    state.q[0,:] = sqrt(abs(1.-(xc+3.)**2))*(xc>-4.)*(xc<-2.)\n",
    "    state.q[1,:] = state.q[0,:] + 0.\n",
    "\n",
    "    claw = pyclaw.Controller()\n",
    "    claw.solution = pyclaw.Solution(state, domain)\n",
    "    claw.solver = solver\n",
    "    claw.tfinal = 10.0\n",
    "    claw.num_output_times   = 40\n",
    "    claw.keep_copy = True\n",
    "\n",
    "    # Solve\n",
    "    return claw"
   ]
  },
  {
   "cell_type": "code",
   "execution_count": null,
   "metadata": {},
   "outputs": [],
   "source": [
    "claw = acoustics()\n",
    "claw.verbosity = 0"
   ]
  },
  {
   "cell_type": "code",
   "execution_count": null,
   "metadata": {},
   "outputs": [],
   "source": [
    "claw.run()"
   ]
  },
  {
   "cell_type": "code",
   "execution_count": null,
   "metadata": {},
   "outputs": [],
   "source": [
    "ianimate.ianimate(claw)"
   ]
  },
  {
   "cell_type": "code",
   "execution_count": null,
   "metadata": {},
   "outputs": [],
   "source": []
  }
 ],
 "metadata": {
  "kernelspec": {
   "display_name": "Python 3",
   "language": "python",
   "name": "python3"
  },
  "language_info": {
   "codemirror_mode": {
    "name": "ipython",
    "version": 3
   },
   "file_extension": ".py",
   "mimetype": "text/x-python",
   "name": "python",
   "nbconvert_exporter": "python",
   "pygments_lexer": "ipython3",
   "version": "3.6.5"
  },
  "toc": {
   "base_numbering": 1,
   "nav_menu": {},
   "number_sections": true,
   "sideBar": true,
   "skip_h1_title": false,
   "title_cell": "Table of Contents",
   "title_sidebar": "Contents",
   "toc_cell": false,
   "toc_position": {},
   "toc_section_display": true,
   "toc_window_display": false
  }
 },
 "nbformat": 4,
 "nbformat_minor": 2
}

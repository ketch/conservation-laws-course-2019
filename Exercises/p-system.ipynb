{
 "cells": [
  {
   "cell_type": "code",
   "execution_count": null,
   "metadata": {},
   "outputs": [],
   "source": [
    "import numpy as np\n",
    "from scipy.optimize import fsolve\n",
    "import matplotlib.pyplot as plt\n",
    "import warnings\n",
    "from ipywidgets import interact, interact_manual\n",
    "from ipywidgets import widgets, Checkbox, fixed\n",
    "from utils import riemann_tools"
   ]
  },
  {
   "cell_type": "code",
   "execution_count": null,
   "metadata": {},
   "outputs": [],
   "source": [
    "def p(volume):\n",
    "    return -np.exp(volume)\n",
    "\n",
    "def dpdv(volume):\n",
    "    return -np.exp(volume)\n",
    "\n",
    "def lamda_1(v):\n",
    "    return -np.sqrt(-dpdv(v))\n",
    "    \n",
    "def lamda_2(v):\n",
    "    return  np.sqrt(-dpdv(v))\n",
    "    \n",
    "def exact_riemann_solution(q_l, q_r):\n",
    "    v_l, u_l = q_l\n",
    "    v_r, u_r = q_r\n",
    "    \n",
    "    integral_curve_1 = lambda v: u_l - 2*(np.exp(v_l/2.)-np.exp(v/2.))\n",
    "    integral_curve_2 = lambda v: u_r + 2*(np.exp(v_r/2.)-np.exp(v/2.))\n",
    "    hugoniot_locus_1 = lambda v: u_l + np.sqrt(-(p(v)-p(v_l))*(v-v_l))\n",
    "    hugoniot_locus_2 = lambda v: u_r - np.sqrt(-(p(v)-p(v_r))*(v-v_r))\n",
    "    \n",
    "    def phi_l(v):\n",
    "        if lamda_1(v) < lamda_1(v_l):\n",
    "            return hugoniot_locus_1(v)\n",
    "        else:\n",
    "            return integral_curve_1(v)\n",
    "        \n",
    "    def phi_r(v):\n",
    "        if lamda_2(v) > lamda_2(v_r):\n",
    "            return hugoniot_locus_2(v)\n",
    "        else:\n",
    "            return integral_curve_2(v)\n",
    "        \n",
    "    phi = lambda v: phi_l(v) - phi_r(v)\n",
    "    guess = (v_l + v_r)/2.\n",
    "    \n",
    "    v_m, _, ier, msg = fsolve(phi, guess, full_output=True, xtol=1.e-14)\n",
    "    if ier != 1:\n",
    "        print('Warning: fsolve did not converge.')\n",
    "        print(msg)\n",
    "        \n",
    "    v_m = v_m[0]\n",
    "    u_m = phi_l(v_m)\n",
    "    #return v_m, u_m\n",
    "\n",
    "    ws = np.zeros(4)\n",
    "    wave_types = ['', '']\n",
    "    \n",
    "    if (lamda_1(v_l) > lamda_1(v_m)): # 1-shock\n",
    "        wave_types[0] = 'shock'\n",
    "        ws[0] = -(u_l-u_m)/(v_l-v_m)\n",
    "        ws[1] = ws[0]\n",
    "    else:\n",
    "        wave_types[0] = 'raref'\n",
    "        ws[0] = lamda_1(v_l)\n",
    "        ws[1] = lamda_1(v_m)\n",
    "    \n",
    "    if (lamda_2(v_m) > lamda_2(v_r)): # 2-shock\n",
    "        wave_types[1] = 'shock'\n",
    "        ws[2] = -(u_r-u_m)/(v_r-v_m)\n",
    "        ws[3] = ws[2]\n",
    "    else:\n",
    "        wave_types[1] = 'raref'\n",
    "        ws[2] = lamda_2(v_m)\n",
    "        ws[3] = lamda_2(v_r)\n",
    "        \n",
    "    def raref1(xi):\n",
    "        RiemannInvariant = u_l - 2*np.exp(v_l/2.)\n",
    "        u = RiemannInvariant - 2*xi\n",
    "        v = 2*np.log(np.abs(xi))\n",
    "        return v, u\n",
    "    \n",
    "    def raref2(xi):\n",
    "        RiemannInvariant = u_r + 2*np.exp(v_r/2.)\n",
    "        u = RiemannInvariant - 2*xi\n",
    "        v = 2*np.log(np.abs(xi))\n",
    "        return v, u\n",
    "    \n",
    "    q_m = np.array((v_m, u_m))\n",
    "    \n",
    "    states = np.column_stack([q_l, q_m, q_r])\n",
    "    speeds = [[], []]\n",
    "    if wave_types[0] is 'shock':\n",
    "        speeds[0] = ws[0]\n",
    "    else:\n",
    "        speeds[0] = (ws[0],ws[1])\n",
    "    if wave_types[1] is 'shock':\n",
    "        speeds[1] = ws[2]\n",
    "    else:\n",
    "        speeds[1] = (ws[2],ws[3])\n",
    "\n",
    "    def reval(xi):\n",
    "        rar1 = raref1(xi)\n",
    "        rar2 = raref2(xi)\n",
    "        v_out = (xi<=ws[0])*v_l + \\\n",
    "                (xi>ws[0])*(xi<=ws[1])*rar1[0] + \\\n",
    "                (xi>ws[1])*(xi<=ws[2])*v_m + \\\n",
    "                (xi>ws[2])*(xi<=ws[3])*rar2[0] + \\\n",
    "                (xi>ws[3])*v_r\n",
    "       \n",
    "        u_out = (xi<=ws[0])*u_l + \\\n",
    "                (xi>ws[0])*(xi<=ws[1])*rar1[1] + \\\n",
    "                (xi>ws[1])*(xi<=ws[2])*u_m + \\\n",
    "                (xi>ws[2])*(xi<=ws[3])*rar2[1] + \\\n",
    "                (xi>ws[3])*u_r\n",
    "        return v_out, u_out\n",
    "    return states, speeds, reval, wave_types"
   ]
  },
  {
   "cell_type": "code",
   "execution_count": null,
   "metadata": {},
   "outputs": [],
   "source": [
    "q_l = np.array([1,1.])\n",
    "q_r = np.array([3,4.])\n",
    "\n",
    "states, speeds, reval, wave_types = exact_riemann_solution(q_l, q_r)"
   ]
  },
  {
   "cell_type": "code",
   "execution_count": null,
   "metadata": {},
   "outputs": [],
   "source": [
    "print(states)"
   ]
  },
  {
   "cell_type": "code",
   "execution_count": null,
   "metadata": {},
   "outputs": [],
   "source": [
    "print(speeds)"
   ]
  },
  {
   "cell_type": "code",
   "execution_count": null,
   "metadata": {},
   "outputs": [],
   "source": [
    "print(wave_types)"
   ]
  },
  {
   "cell_type": "code",
   "execution_count": null,
   "metadata": {},
   "outputs": [],
   "source": [
    "riemann_tools.plot_riemann(states,speeds,reval,wave_types,t=0.3);"
   ]
  },
  {
   "cell_type": "code",
   "execution_count": null,
   "metadata": {},
   "outputs": [],
   "source": [
    "def lambda1(q,xi):\n",
    "    return lamda_1(q[0])\n",
    "\n",
    "def lambda2(q,xi):\n",
    "    return lamda_2(q[0])\n",
    "\n",
    "def make_plot_function(q_l, q_r):\n",
    "    states, speeds, reval, wave_types = \\\n",
    "        exact_riemann_solution(q_l,q_r)\n",
    "        \n",
    "    def plot_function(t,which_char):\n",
    "        ax = riemann_tools.plot_riemann(states,speeds,reval,wave_types,\n",
    "                                        t=t,t_pointer=0,\n",
    "                                        extra_axes=False,\n",
    "                                        variable_names=['V','U'])\n",
    "        if which_char == 1:\n",
    "            riemann_tools.plot_characteristics(reval,lambda1,None,ax[0])\n",
    "        elif which_char == 2:\n",
    "            riemann_tools.plot_characteristics(reval,lambda2,None,ax[0])\n",
    "        #nonlinear_elasticity.phase_plane_plot(q_l, q_r, aux_l, aux_r, ax[3])\n",
    "        plt.show()\n",
    "    return plot_function        \n",
    "        \n",
    "def plot_riemann_solution(q_l,q_r):\n",
    "    plot_function = make_plot_function(q_l,q_r)\n",
    "    interact(plot_function, t=widgets.FloatSlider(value=0.1,min=0,max=1.,step=0.1),\n",
    "             which_char=widgets.Dropdown(options=[None,1,2],\n",
    "                                         description='Show characteristics'));"
   ]
  },
  {
   "cell_type": "code",
   "execution_count": null,
   "metadata": {},
   "outputs": [],
   "source": [
    "plot_riemann_solution(q_l,q_r)"
   ]
  },
  {
   "cell_type": "code",
   "execution_count": null,
   "metadata": {},
   "outputs": [],
   "source": [
    "def full_riemann(v_l=2., v_r=1., u_l=1., u_r=1.):\n",
    "    q_l = np.array((v_l,u_l))\n",
    "    q_r = np.array((v_r,u_r))\n",
    "    plot_riemann_solution(q_l,q_r)"
   ]
  },
  {
   "cell_type": "code",
   "execution_count": null,
   "metadata": {},
   "outputs": [],
   "source": [
    "interact_manual(full_riemann);"
   ]
  }
 ],
 "metadata": {
  "kernelspec": {
   "display_name": "Python 3",
   "language": "python",
   "name": "python3"
  },
  "language_info": {
   "codemirror_mode": {
    "name": "ipython",
    "version": 3
   },
   "file_extension": ".py",
   "mimetype": "text/x-python",
   "name": "python",
   "nbconvert_exporter": "python",
   "pygments_lexer": "ipython3",
   "version": "3.6.5"
  },
  "toc": {
   "base_numbering": 1,
   "nav_menu": {},
   "number_sections": true,
   "sideBar": true,
   "skip_h1_title": false,
   "title_cell": "Table of Contents",
   "title_sidebar": "Contents",
   "toc_cell": false,
   "toc_position": {},
   "toc_section_display": true,
   "toc_window_display": false
  }
 },
 "nbformat": 4,
 "nbformat_minor": 2
}

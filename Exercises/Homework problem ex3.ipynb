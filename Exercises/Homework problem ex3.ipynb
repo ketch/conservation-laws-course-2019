{
 "cells": [
  {
   "cell_type": "code",
   "execution_count": null,
   "metadata": {},
   "outputs": [],
   "source": [
    "import numpy as np\n",
    "from clawpack import riemann\n",
    "from  clawpack.visclaw import ianimate"
   ]
  },
  {
   "cell_type": "code",
   "execution_count": null,
   "metadata": {},
   "outputs": [],
   "source": [
    "def q_src(solver, state,  dt):\n",
    "    lamda = state.problem_data['lambda']\n",
    "    dt2 = dt/2.\n",
    "    q = state.q\n",
    "    qstar = np.empty(q.shape)\n",
    "    qstar[0,:] = q[0,:] - dt2*lamda*q[0,:]\n",
    "    q[0,:] = q[0,:] - dt*lamda*q[0,:]\n",
    "\n",
    "def setup(maxslope,  lamda=1., outdir='./_output',solver_type='classic'):\n",
    "\n",
    "    from clawpack import pyclaw\n",
    "\n",
    "    riemann_solver = riemann.burgers_1D\n",
    "\n",
    "    if solver_type=='sharpclaw':\n",
    "        solver = pyclaw.SharpClawSolver1D(riemann_solver)\n",
    "    else:\n",
    "        solver = pyclaw.ClawSolver1D(riemann_solver)\n",
    "        solver.limiters = pyclaw.limiters.tvd.vanleer\n",
    "        solver.step_source = q_src\n",
    "        solver.source_split = 1.\n",
    "\n",
    "    solver.bc_lower[0] = pyclaw.BC.periodic\n",
    "    solver.bc_upper[0] = pyclaw.BC.periodic\n",
    "\n",
    "    x = pyclaw.Dimension(0.0,2*np.pi,500,name='x')\n",
    "    domain = pyclaw.Domain(x)\n",
    "    num_eqn = 1\n",
    "    state = pyclaw.State(domain,num_eqn)\n",
    "\n",
    "    xc = state.grid.x.centers\n",
    "    state.q[0,:] = maxslope*np.sin(xc) + 1.\n",
    "    state.problem_data['efix']=True\n",
    "    state.problem_data['lambda'] = lamda\n",
    "    \n",
    "    claw = pyclaw.Controller()\n",
    "    claw.tfinal = 10.\n",
    "    claw.solution = pyclaw.Solution(state,domain)\n",
    "    claw.solver = solver\n",
    "    claw.outdir = outdir\n",
    "    #claw.setplot = setplot\n",
    "    claw.keep_copy = True\n",
    "    claw.num_output_times = 50\n",
    "\n",
    "    return claw"
   ]
  },
  {
   "cell_type": "code",
   "execution_count": null,
   "metadata": {},
   "outputs": [],
   "source": [
    "claw = setup(maxslope=0.1)\n",
    "claw.verbosity = 0\n",
    "claw.run()"
   ]
  },
  {
   "cell_type": "code",
   "execution_count": null,
   "metadata": {},
   "outputs": [],
   "source": [
    "ianimate.ianimate(claw)"
   ]
  },
  {
   "cell_type": "code",
   "execution_count": null,
   "metadata": {},
   "outputs": [],
   "source": []
  }
 ],
 "metadata": {
  "kernelspec": {
   "display_name": "Python 3",
   "language": "python",
   "name": "python3"
  },
  "language_info": {
   "codemirror_mode": {
    "name": "ipython",
    "version": 3
   },
   "file_extension": ".py",
   "mimetype": "text/x-python",
   "name": "python",
   "nbconvert_exporter": "python",
   "pygments_lexer": "ipython3",
   "version": "3.6.5"
  },
  "toc": {
   "base_numbering": 1,
   "nav_menu": {},
   "number_sections": true,
   "sideBar": true,
   "skip_h1_title": false,
   "title_cell": "Table of Contents",
   "title_sidebar": "Contents",
   "toc_cell": false,
   "toc_position": {},
   "toc_section_display": true,
   "toc_window_display": false
  }
 },
 "nbformat": 4,
 "nbformat_minor": 2
}
